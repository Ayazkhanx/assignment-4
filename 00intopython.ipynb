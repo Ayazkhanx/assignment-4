{
  "nbformat": 4,
  "nbformat_minor": 0,
  "metadata": {
    "colab": {
      "provenance": [],
      "authorship_tag": "ABX9TyNO5tVn69xEbySHvUsIM0Mx",
      "include_colab_link": true
    },
    "kernelspec": {
      "name": "python3",
      "display_name": "Python 3"
    },
    "language_info": {
      "name": "python"
    }
  },
  "cells": [
    {
      "cell_type": "markdown",
      "metadata": {
        "id": "view-in-github",
        "colab_type": "text"
      },
      "source": [
        "<a href=\"https://colab.research.google.com/github/Ayazkhanx/assignment-4/blob/main/00intopython.ipynb\" target=\"_parent\"><img src=\"https://colab.research.google.com/assets/colab-badge.svg\" alt=\"Open In Colab\"/></a>"
      ]
    },
    {
      "cell_type": "code",
      "execution_count": 8,
      "metadata": {
        "colab": {
          "base_uri": "https://localhost:8080/"
        },
        "id": "opRP23Vqdpwl",
        "outputId": "259723ca-c888-4565-b18e-55d070f2a08f"
      },
      "outputs": [
        {
          "output_type": "stream",
          "name": "stdout",
          "text": [
            "Enter First number: 5\n",
            "Enter Second number: 5\n",
            "Your Final Result is : 10\n"
          ]
        }
      ],
      "source": [
        "print(\"Add two Numbers\")\n",
        "def add():\n",
        "  sum1 = int(input(\"Enter First number: \"))\n",
        "  sum2 = int(input(\"Enter Second number: \"))\n",
        "  result = sum1 + sum2\n",
        "\n",
        "  print(\"Your Final Result is :\", result)\n",
        "\n",
        "if __name__ == \"__main__\":\n",
        "    add()\n"
      ]
    },
    {
      "cell_type": "code",
      "source": [
        "print(\"02 Agrement bot\")\n",
        "\n",
        "def bot():\n",
        "  Animal = input(\"Enter Your Favourite Animal Name: \")\n",
        "  print(f\"My favourite animal is also : {Animal}\")\n",
        "\n",
        "if __name__ == \"__main__\":\n",
        "  bot()"
      ],
      "metadata": {
        "colab": {
          "base_uri": "https://localhost:8080/"
        },
        "id": "D2XyX5fdlQYG",
        "outputId": "e4ab74ea-4448-42ea-a1fa-79c122786c43"
      },
      "execution_count": 9,
      "outputs": [
        {
          "output_type": "stream",
          "name": "stdout",
          "text": [
            "02 Agrement bot\n",
            "Enter Your Favourite Animal Name: Hathi\n",
            "My favourite animal is also : Hathi\n"
          ]
        }
      ]
    },
    {
      "cell_type": "code",
      "source": [
        "print(\"Ferinhite to Celsius\")\n",
        "\n",
        "def temp():\n",
        "  temp = float(input(\"Enter Today Temperature in Fahrenheit: \"))\n",
        "  celcius = (float(temp) - 32) * 5/9\n",
        "  print(f\"Today Temperature in Celcius is: {celcius}C\")\n",
        "\n",
        "if __name__ == \"__main__\":\n",
        "  temp()"
      ],
      "metadata": {
        "colab": {
          "base_uri": "https://localhost:8080/"
        },
        "id": "VI9hekuYmAwf",
        "outputId": "0a76f761-a3cc-4d8a-d6d1-cad88d0d486e"
      },
      "execution_count": 13,
      "outputs": [
        {
          "output_type": "stream",
          "name": "stdout",
          "text": [
            "Ferinhite to Celsius\n",
            "Enter Today Temperature in Fahrenheit: 35\n",
            "Today Temperature in Celcius is: 1.6666666666666667C\n"
          ]
        }
      ]
    },
    {
      "cell_type": "code",
      "source": [
        "print(\"04_how_old_are_they\")\n",
        "\n",
        "def add_ages():\n",
        "  anthon = 21\n",
        "  beth:int = anthon + 6\n",
        "  chen:int = beth + 20\n",
        "  drew:int = chen + anthon\n",
        "  ethon:int = chen\n",
        "\n",
        "  print(\"anthon is \" + str(anthon))\n",
        "  print(\"beth is \" + str(beth))\n",
        "  print(\"chen is \" + str(chen))\n",
        "  print(\"drew is \" + str(drew))\n",
        "  print(\"ethon is \" + str(ethon))\n",
        "\n",
        "if __name__ == \"__main__\":\n",
        "  add_ages()\n"
      ],
      "metadata": {
        "colab": {
          "base_uri": "https://localhost:8080/"
        },
        "id": "vte_mbFPnA6O",
        "outputId": "ad1a17b9-2257-4b2e-9ee5-0b342c730141"
      },
      "execution_count": 17,
      "outputs": [
        {
          "output_type": "stream",
          "name": "stdout",
          "text": [
            "04_how_old_are_they\n",
            "anthon is 21\n",
            "beth is 27\n",
            "chen is 47\n",
            "drew is 68\n",
            "ethon is 47\n"
          ]
        }
      ]
    },
    {
      "cell_type": "code",
      "source": [
        "print(\"05_triangle_perimeter\")\n",
        "\n",
        "def triangle():\n",
        "  side1:float = float(input(\"enter your first side\"))\n",
        "  side2:float = float(input(\"enter your second side\"))\n",
        "  side3:float = float(input(\"enter your third side\"))\n",
        "\n",
        "  total:float = float(side1 + side2 + side3)\n",
        "\n",
        "  print(f\"the perameter of the triangle is : {total}\" )\n",
        "\n",
        "if __name__ == \"__main__\":\n",
        "  triangle()"
      ],
      "metadata": {
        "colab": {
          "base_uri": "https://localhost:8080/"
        },
        "id": "4R7xUf6Sy_0t",
        "outputId": "0c438ce1-2aad-408f-b399-f86977547a18"
      },
      "execution_count": 23,
      "outputs": [
        {
          "output_type": "stream",
          "name": "stdout",
          "text": [
            "05_triangle_perimeter\n",
            "enter your first side8\n",
            "enter your second side9\n",
            "enter your third side7\n",
            "the perameter of the triangle is : 24.0\n"
          ]
        }
      ]
    },
    {
      "cell_type": "code",
      "source": [
        "print(\"06_square_number\")\n",
        "\n",
        "def square():\n",
        "   num:int = int(input(\"Enter your number and i will give you their square\"))\n",
        "   print(f\"the square of the {num} is {num ** 2}\")\n",
        "\n",
        "if __name__ == \"__main__\":\n",
        "  square()"
      ],
      "metadata": {
        "colab": {
          "base_uri": "https://localhost:8080/"
        },
        "id": "HZ4ZujoC13VC",
        "outputId": "c4ee0c35-1d0a-4062-add8-23a8e73b73c0"
      },
      "execution_count": 31,
      "outputs": [
        {
          "output_type": "stream",
          "name": "stdout",
          "text": [
            "06_square_number\n",
            "Enter your number and i will give you their square5\n",
            "the square of the 5 is 25\n"
          ]
        }
      ]
    }
  ]
}