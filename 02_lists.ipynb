{
  "nbformat": 4,
  "nbformat_minor": 0,
  "metadata": {
    "colab": {
      "provenance": [],
      "authorship_tag": "ABX9TyPDQIf4ltpznfazMFPSJAYO",
      "include_colab_link": true
    },
    "kernelspec": {
      "name": "python3",
      "display_name": "Python 3"
    },
    "language_info": {
      "name": "python"
    }
  },
  "cells": [
    {
      "cell_type": "markdown",
      "metadata": {
        "id": "view-in-github",
        "colab_type": "text"
      },
      "source": [
        "<a href=\"https://colab.research.google.com/github/Ayazkhanx/assignment-4/blob/main/02_lists.ipynb\" target=\"_parent\"><img src=\"https://colab.research.google.com/assets/colab-badge.svg\" alt=\"Open In Colab\"/></a>"
      ]
    },
    {
      "cell_type": "code",
      "execution_count": 2,
      "metadata": {
        "colab": {
          "base_uri": "https://localhost:8080/"
        },
        "id": "PQb3KCEUJm4n",
        "outputId": "7d5b0859-fe46-4b67-de54-5b8c929e7ab4"
      },
      "outputs": [
        {
          "output_type": "stream",
          "name": "stdout",
          "text": [
            "01_add_many_number\n",
            "15\n"
          ]
        }
      ],
      "source": [
        "print(\"01_add_many_number\")\n",
        "\n",
        "def add_numbers(numbers)->int:\n",
        "  num:int = 0\n",
        "  for n in numbers:\n",
        "    num += n\n",
        "\n",
        "  return num\n",
        "\n",
        "def main():\n",
        "  numbers:list[int] = [1,2,3,4,5,6]\n",
        "  sum:int = add_numbers(numbers)\n",
        "  print(sum)\n",
        "\n",
        "if __name__ == \"__main__\":\n",
        "    main()"
      ]
    },
    {
      "cell_type": "code",
      "source": [
        "print(\"02_double_list\")\n",
        "\n",
        "def main():\n",
        "  numbers:list[int] =[1,2,3,4,5,6]\n",
        "  for i in range(len(numbers)):\n",
        "    index = numbers[i]\n",
        "    numbers[i] = index * 2\n",
        "  print(numbers)\n",
        "\n",
        "if __name__ == \"__main__\":\n",
        "  main()"
      ],
      "metadata": {
        "colab": {
          "base_uri": "https://localhost:8080/"
        },
        "id": "dUIvvTppKkkn",
        "outputId": "c6fec693-22f8-4b7a-c89a-41a805bda695"
      },
      "execution_count": 3,
      "outputs": [
        {
          "output_type": "stream",
          "name": "stdout",
          "text": [
            "02_double_list\n",
            "[2, 4, 6, 8, 10, 12]\n"
          ]
        }
      ]
    },
    {
      "cell_type": "code",
      "source": [
        "print(\"04_flowing_with_data_structures\")\n",
        "\n",
        "def add_copies(my_list,data):\n",
        "  for i in range(3):\n",
        "    my_list.append(data)\n",
        "\n",
        "def main():\n",
        "  message = input(\"Enter a message to copy: \")\n",
        "  my_list = []\n",
        "  print(\"List before:\",my_list)\n",
        "  add_copies(my_list,message)\n",
        "  print(\"List after:\",my_list)\n",
        "\n",
        "if __name__ == \"__main__\":\n",
        "  main()"
      ],
      "metadata": {
        "colab": {
          "base_uri": "https://localhost:8080/"
        },
        "id": "JS6v1jPqOeds",
        "outputId": "f6e90564-512c-4fae-9692-9a37a0a05ae6"
      },
      "execution_count": 4,
      "outputs": [
        {
          "output_type": "stream",
          "name": "stdout",
          "text": [
            "04_flowing_with_data_structures\n",
            "Enter a message to copy: hello gyz\n",
            "List before: []\n",
            "List after: ['hello gyz', 'hello gyz', 'hello gyz']\n"
          ]
        }
      ]
    },
    {
      "cell_type": "code",
      "source": [
        "\n",
        "print(\"05_get_first_element\")\n",
        "\n",
        "def get__first_element(lst):\n",
        "  print(lst[0])\n",
        "\n",
        "def get_lst():\n",
        "  lst = []\n",
        "  element:str = input(\"Enter an element to add to the list: \")\n",
        "  while element != \"\":\n",
        "    lst.append(element)\n",
        "    element:str = input(\"Enter an element to add to the list: \")\n",
        "  return lst\n",
        "\n",
        "def main():\n",
        "  lst = get_lst()\n",
        "  get__first_element(lst)\n",
        "\n",
        "\n",
        "if __name__ == \"__main__\":\n",
        "  main()"
      ],
      "metadata": {
        "colab": {
          "base_uri": "https://localhost:8080/"
        },
        "id": "H88gw6VVOq-T",
        "outputId": "95cc21dd-aa34-4cb4-e877-8641cbcd7b79"
      },
      "execution_count": 7,
      "outputs": [
        {
          "output_type": "stream",
          "name": "stdout",
          "text": [
            "05_get_first_element\n",
            "Enter an element to add to the list: a\n",
            "Enter an element to add to the list: y\n",
            "Enter an element to add to the list: a\n",
            "Enter an element to add to the list: z\n",
            "Enter an element to add to the list: \n",
            "a\n"
          ]
        }
      ]
    },
    {
      "cell_type": "code",
      "source": [
        "def get__first_element(lst):\n",
        "  print(lst[-1])\n",
        "\n",
        "def get_lst():\n",
        "  lst = []\n",
        "  element:str = input(\"Enter an element to add to the list: \")\n",
        "  while element != \"\":\n",
        "    lst.append(element)\n",
        "    element:str = input(\"Enter an element to add to the list: \")\n",
        "  return lst\n",
        "\n",
        "def main():\n",
        "  lst = get_lst()\n",
        "  get__first_element(lst)\n",
        "\n",
        "\n",
        "if __name__ == \"__main__\":\n",
        "  main()"
      ],
      "metadata": {
        "colab": {
          "base_uri": "https://localhost:8080/"
        },
        "id": "KJivd9ZXvoC_",
        "outputId": "1178a44e-fda5-45f4-996b-f3eae79aa084"
      },
      "execution_count": 9,
      "outputs": [
        {
          "output_type": "stream",
          "name": "stdout",
          "text": [
            "Enter an element to add to the list: a\n",
            "Enter an element to add to the list: y\n",
            "Enter an element to add to the list: a\n",
            "Enter an element to add to the list: z\n",
            "Enter an element to add to the list: \n",
            "z\n"
          ]
        }
      ]
    },
    {
      "cell_type": "code",
      "source": [
        "print(\"07_get_list\")\n",
        "\n",
        "def main():\n",
        "  lst = []\n",
        "  val = input(\"Enter a value to add to the list: \")\n",
        "  while val:\n",
        "    lst.append(val)\n",
        "    val = input(\"Enter a value to add to the list: \")\n",
        "  print(\"Here is the list: \", lst)\n",
        "\n",
        "if __name__ == \"__main__\":\n",
        "  main()"
      ],
      "metadata": {
        "colab": {
          "base_uri": "https://localhost:8080/"
        },
        "id": "dzyVB9dCwIjd",
        "outputId": "28c617dc-0feb-435e-8b63-b481dd4c4464"
      },
      "execution_count": 10,
      "outputs": [
        {
          "output_type": "stream",
          "name": "stdout",
          "text": [
            "07_get_list\n",
            "Enter a value to add to the list: a\n",
            "Enter a value to add to the list: b\n",
            "Enter a value to add to the list: c\n",
            "Enter a value to add to the list: d\n",
            "Enter a value to add to the list: \n",
            "Here is the list:  ['a', 'b', 'c', 'd']\n"
          ]
        }
      ]
    },
    {
      "cell_type": "code",
      "source": [
        "print(\"08_shorten\")\n",
        "\n",
        "MAX_LENGTH:int = 4\n",
        "def shorten(lst):\n",
        "  while len(lst) > MAX_LENGTH:\n",
        "    last_element = lst.pop()\n",
        "    print(last_element)\n",
        "\n",
        "def get_lst():\n",
        "  lst = []\n",
        "  element = input(\"Enter an element to add to the list: \")\n",
        "  while element != \"\":\n",
        "    lst.append(element)\n",
        "    element = input(\"Enter an element to add to the list: \")\n",
        "  return lst\n",
        "\n",
        "def main():\n",
        "  lst = get_lst()\n",
        "  shorten(lst)\n",
        "\n",
        "if __name__ == \"__main__\":\n",
        "  main()"
      ],
      "metadata": {
        "colab": {
          "base_uri": "https://localhost:8080/"
        },
        "id": "UaWSHqSsx2rP",
        "outputId": "6715ea32-09fe-4c8f-f072-a8509db14a4c"
      },
      "execution_count": 12,
      "outputs": [
        {
          "output_type": "stream",
          "name": "stdout",
          "text": [
            "08_shorten\n",
            "Enter an element to add to the list: a\n",
            "Enter an element to add to the list: y\n",
            "Enter an element to add to the list: a\n",
            "Enter an element to add to the list: z\n",
            "Enter an element to add to the list: k\n",
            "Enter an element to add to the list: h\n",
            "Enter an element to add to the list: a\n",
            "Enter an element to add to the list: n\n",
            "Enter an element to add to the list: \n",
            "n\n",
            "a\n",
            "h\n",
            "k\n"
          ]
        }
      ]
    }
  ]
}